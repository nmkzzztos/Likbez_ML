{
 "cells": [
  {
   "attachments": {},
   "cell_type": "markdown",
   "metadata": {},
   "source": [
    "<h1 style=\"text-align: center\">Gradient Descent algorithm</h1>\n",
    "<p style=\"text-align: center\"><strong>Linear Regression</strong> can be enhanced with the use of the <strong>Gradient Descent</strong> algorithm.</p>\n",
    "<p style=\"text-align: center\">By applying the <strong>Gradient Descent</strong> algorithm, we can optimize the <strong>theta</strong> parameters of our <strong>Linear Regression</strong> algorithm to improve its performance.</p>\n",
    "<p style=\"text-align: center\">This involves iteratively minimizing our cost function using small steps until we reach the optimal parameters.</p>\n",
    "<img src=\"../../assets/GD/example.png\" style=\"display: block; margin-left: auto; margin-right: auto\">\n",
    "\n",
    "<p style=\"text-align: center\">To find the optimal parameters, we need to find the <strong>gradient</strong> (derivatives) of our cost function.</p>\n",
    "\n",
    "$$ J:= \\frac{1}{2m} \\sum_{i=1}^{m} (h_{\\theta}(x^{(i)}) - y^{(i)})^2 -> Cost\\; Function$$\n",
    "$$ h_{\\theta}(x^{(i)}) = \\theta_0 + \\theta_1 x^{(i)} -> Linear\\; Regression$$\n",
    "$$ \\frac{\\partial J}{\\partial \\theta_0} = \\frac{1}{m} \\sum_{i=1}^{m} (h_{\\theta}(x^{(i)}) - y^{(i)}) -> First\\; Derivative$$\n",
    "$$ \\frac{\\partial J}{\\partial \\theta_1} = \\frac{1}{m} \\sum_{i=1}^{m} (h_{\\theta}(x^{(i)}) - y^{(i)}) x^{(i)} -> Second\\; Derivative$$\n",
    "\n",
    "<p style=\"text-align: center\">We can then use these derivatives to update our parameters:</p>\n",
    "\n",
    "$$ \\theta_0 := \\theta_0 - \\alpha \\frac{\\partial J}{\\partial \\theta_0} -> Update\\; \\theta_0$$\n",
    "$$ \\theta_1 := \\theta_1 - \\alpha \\frac{\\partial J}{\\partial \\theta_1} -> Update\\; \\theta_1$$\n",
    "$$ \\alpha -> Learning\\; Rate$$\n",
    "\n",
    "<p style=\"text-align: center\">We can then repeat this process until we reach the optimal parameters.</p>\n",
    "<p style=\"text-align: center\">The <strong>Gradient Descent</strong> algorithm is a very powerful optimization algorithm that can be used to optimize many different machine learning algorithms.</p>"
   ]
  },
  {
   "attachments": {},
   "cell_type": "markdown",
   "metadata": {},
   "source": [
    "## Implementation"
   ]
  },
  {
   "cell_type": "code",
   "execution_count": 9,
   "metadata": {},
   "outputs": [],
   "source": [
    "import numpy as np\n",
    "\n",
    "class GradientDescent:\n",
    "    def __init__(self, learning_rate = 0.1, epochs = 1000):\n",
    "        self.learning_rate = learning_rate\n",
    "        self.epochs = epochs\n",
    "        self.weights = None\n",
    "        self.bias = None\n",
    "    \n",
    "    def fit(self, X, y):\n",
    "        num_samples, num_features = X.shape\n",
    "\n",
    "        self.weights = np.zeros(num_features)\n",
    "        self.bias = 0\n",
    "\n",
    "        for i in range(self.epochs):\n",
    "            y_predicted = np.dot(X, self.weights) + self.bias\n",
    "            diff = (y_predicted - y)\n",
    "            \n",
    "            dw = np.dot(X.T, diff) / num_samples\n",
    "            db = np.sum(diff) / num_samples\n",
    "\n",
    "            self.weights -= self.learning_rate * dw\n",
    "            self.bias -= self.learning_rate * db\n",
    "        \n",
    "    def predict(self, X):\n",
    "        return np.dot(X, self.weights) + self.bias\n",
    "\n",
    "    def evaluate(self, X, y):\n",
    "        return np.sum((self.predict(X) - y)**2)/len(y)\n",
    "    \n",
    "    def print(self):\n",
    "        print(f'Weights : {self.weights}')\n",
    "        print(f'Bias : {self.bias}')"
   ]
  },
  {
   "attachments": {},
   "cell_type": "markdown",
   "metadata": {},
   "source": [
    "## Dataset\n",
    "\n",
    "We will use custom dataset for this example. The dataset contains 30 examples and 2 columns: Years of Experience and Salary. We will use Years of Experience to predict Salary."
   ]
  },
  {
   "cell_type": "code",
   "execution_count": 10,
   "metadata": {},
   "outputs": [],
   "source": [
    "import pandas as pd\n",
    "from sklearn.model_selection import train_test_split\n",
    "\n",
    "# Dataset of 30 employees with their years of experience and salary\n",
    "df = pd.DataFrame({'YearsExperience': [1.1, 1.3, 1.5, 2, 2.2, 2.9, 3, 3.2, 3.2, 3.7, 3.9, 4, 4, 4.1, 4.5, 4.9, 5.1, 5.3, 5.9, 6, 6.8, 7.1, 7.9, 8.2, 8.7, 9, 9.5, 9.6, 10.3, 10.5], 'Salary': [39343, 46205, 37731, 43525, 39891, 56642, 60150, 54445, 64445, 57189, 63218, 55794, 56957, 57081, 61111, 67938, 66029, 83088, 81363, 93940, 91738, 98273, 101302, 113812, 109431, 105582, 116969, 112635, 122391, 121872]})\n",
    "\n",
    "X = df['YearsExperience'].values\n",
    "y = df['Salary'].values"
   ]
  },
  {
   "attachments": {},
   "cell_type": "markdown",
   "metadata": {},
   "source": [
    "## Train and Test"
   ]
  },
  {
   "cell_type": "code",
   "execution_count": 15,
   "metadata": {},
   "outputs": [
    {
     "name": "stdout",
     "output_type": "stream",
     "text": [
      "Epochs : 1\n",
      "Weights : [4358.70820833]\n",
      "Bias : 738.8620833333333\n",
      "Loss : 3495772374.8947663\n",
      "------------------------------------\n",
      "Epochs : 10\n",
      "Weights : [12892.71910419]\n",
      "Bias : 2540.61187052824\n",
      "Loss : 103733922.6115523\n",
      "------------------------------------\n",
      "Epochs : 100\n",
      "Weights : [12496.57788023]\n",
      "Bias : 6601.90858241139\n",
      "Loss : 81255794.37418304\n",
      "------------------------------------\n",
      "Epochs : 1000\n",
      "Weights : [9829.36837221]\n",
      "Bias : 23504.991244342826\n",
      "Loss : 8852482.507512279\n",
      "------------------------------------\n",
      "Epochs : 10000\n",
      "Weights : [9312.57513329]\n",
      "Bias : 26780.09910906973\n",
      "Loss : 12823412.210667096\n",
      "------------------------------------\n"
     ]
    }
   ],
   "source": [
    "X_train, X_test, y_train, y_test = train_test_split(X, y, test_size=0.2, random_state=0)\n",
    "X_train = X_train.reshape(-1, 1)\n",
    "X_test = X_test.reshape(-1, 1)\n",
    "\n",
    "y_pred = None\n",
    "\n",
    "diff_epochs = [1, 10, 100, 1000, 10000]\n",
    "\n",
    "for i, epochs in enumerate(diff_epochs):\n",
    "    model = GradientDescent(learning_rate=0.01, epochs=epochs)\n",
    "\n",
    "    model.fit(X_train, y_train)\n",
    "\n",
    "    y_pred = model.predict(X_test)\n",
    "\n",
    "    print(f'Epochs : {epochs}')\n",
    "    model.print()\n",
    "    print(f'Loss : {model.evaluate(X_test, y_test)}')\n",
    "    print('------------------------------------')"
   ]
  },
  {
   "attachments": {},
   "cell_type": "markdown",
   "metadata": {},
   "source": [
    "## Plot the data and the regression line"
   ]
  },
  {
   "cell_type": "code",
   "execution_count": 16,
   "metadata": {},
   "outputs": [
    {
     "data": {
      "image/png": "[encoded data removed]",
      "text/plain": [
       "<Figure size 640x480 with 1 Axes>"
      ]
     },
     "metadata": {},
     "output_type": "display_data"
    }
   ],
   "source": [
    "import matplotlib.pyplot as plt\n",
    "\n",
    "plt.scatter(X_train, y_train, color=\"blue\")\n",
    "plt.plot(X_train, model.predict(X_train), color=\"red\")\n",
    "plt.title('Salary vs Experience (Training set)')\n",
    "plt.xlabel('Years of Experience')\n",
    "plt.ylabel('Salary')\n",
    "plt.show()"
   ]
  }
 ],
 "metadata": {
  "kernelspec": {
   "display_name": "base",
   "language": "python",
   "name": "python3"
  },
  "language_info": {
   "codemirror_mode": {
    "name": "ipython",
    "version": 3
   },
   "file_extension": ".py",
   "mimetype": "text/x-python",
   "name": "python",
   "nbconvert_exporter": "python",
   "pygments_lexer": "ipython3",
   "version": "3.9.13"
  },
  "orig_nbformat": 4
 },
 "nbformat": 4,
 "nbformat_minor": 2
}

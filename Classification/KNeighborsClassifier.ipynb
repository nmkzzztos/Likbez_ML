{
 "cells": [
  {
   "cell_type": "code",
   "execution_count": 18,
   "metadata": {},
   "outputs": [],
   "source": [
    "import numpy as np\n",
    "\n",
    "class KNeighborsClassifier:\n",
    "    def __init__(self, k=5, dist_metric='euclidean'):\n",
    "        self.k = k\n",
    "        self.dist_metric = dist_metric\n",
    "\n",
    "    def _most_common_(self, arr):\n",
    "        '''\n",
    "        Get the most common element in an array\n",
    "        \n",
    "        Args:\n",
    "            arr: 1D array\n",
    "\n",
    "        return: most common element in arr\n",
    "        '''\n",
    "        return np.bincount(arr).argmax()\n",
    "\n",
    "    def _calculate_distance_(self, points):\n",
    "        '''\n",
    "        Calculate distance between two points using the specified distance metric\n",
    "\n",
    "        Args:\n",
    "            points: 2D array with shape (2, n_features)\n",
    "        \n",
    "        return: distance between two points\n",
    "        '''\n",
    "        if self.dist_metric == 'euclidean':\n",
    "            return np.sqrt(np.sum((points[0] - points[1])**2))\n",
    "        elif self.dist_metric == 'manhattan':\n",
    "            return np.abs(points[0] - points[1])\n",
    "        elif self.dist_metric == 'chebychev':\n",
    "            return np.max(np.abs(points[0] - points[1]))\n",
    "        elif self.dist_metric == 'hemming':\n",
    "            return np.sum(points[0] != points[1]) / len(points[0])\n",
    "\n",
    "    def fit(self, X, y):\n",
    "        self.X_train = X\n",
    "        self.y_train = y\n",
    "    \n",
    "    def predict(self, X):\n",
    "        predictions = []\n",
    "        for x in X:\n",
    "            # Calculate distances between x and all training samples\n",
    "            distances = np.array([self._calculate_distance_(np.array([x, x_train])) for x_train in self.X_train])\n",
    "            # Get k nearest samples\n",
    "            k_nearest = np.argsort(distances)[:self.k]\n",
    "            # Get the labels of k nearest samples\n",
    "            y_sorted = self.y_train[k_nearest]\n",
    "            # Get the most common class among k nearest samples\n",
    "            predictions.append(self._most_common_(y_sorted))\n",
    "        return predictions\n",
    "    \n",
    "    def evaluate(self, X, y):\n",
    "        # Calculate accuracy\n",
    "        accuracy = np.sum(self.predict(X) == y) / len(y)\n",
    "\n",
    "        print(f'Accuracy: {accuracy}')\n",
    "\n",
    "        return accuracy"
   ]
  },
  {
   "cell_type": "code",
   "execution_count": 19,
   "metadata": {},
   "outputs": [],
   "source": [
    "from sklearn.datasets import load_iris\n",
    "from sklearn.model_selection import train_test_split\n",
    "\n",
    "X = load_iris().data # 4 features -> sepal length, sepal width, petal length, petal width\n",
    "y = load_iris().target # 3 types of flowers -> 0-setosa, 1-versicolor, 2-virginica\n",
    "\n",
    "X_train, X_test, y_train, y_test = train_test_split(X, y, test_size=0.2, random_state=42)"
   ]
  },
  {
   "cell_type": "code",
   "execution_count": 20,
   "metadata": {},
   "outputs": [],
   "source": [
    "model = KNeighborsClassifier(k=5, dist_metric='euclidean')\n",
    "\n",
    "model.fit(X_train, y_train)"
   ]
  },
  {
   "cell_type": "code",
   "execution_count": 21,
   "metadata": {},
   "outputs": [
    {
     "name": "stdout",
     "output_type": "stream",
     "text": [
      "Accuracy: 1.0\n"
     ]
    },
    {
     "data": {
      "text/plain": [
       "1.0"
      ]
     },
     "execution_count": 21,
     "metadata": {},
     "output_type": "execute_result"
    }
   ],
   "source": [
    "model.evaluate(X_test, y_test)"
   ]
  }
 ],
 "metadata": {
  "kernelspec": {
   "display_name": "base",
   "language": "python",
   "name": "python3"
  },
  "language_info": {
   "codemirror_mode": {
    "name": "ipython",
    "version": 3
   },
   "file_extension": ".py",
   "mimetype": "text/x-python",
   "name": "python",
   "nbconvert_exporter": "python",
   "pygments_lexer": "ipython3",
   "version": "3.9.13"
  },
  "orig_nbformat": 4
 },
 "nbformat": 4,
 "nbformat_minor": 2
}
